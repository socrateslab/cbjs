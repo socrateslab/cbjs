{
 "cells": [
  {
   "cell_type": "markdown",
   "metadata": {},
   "source": [
    "# Nowcasting Using Elastic Net"
   ]
  },
  {
   "cell_type": "code",
   "execution_count": 1,
   "metadata": {
    "ExecuteTime": {
     "end_time": "2021-01-10T04:05:03.355465Z",
     "start_time": "2021-01-10T04:05:01.142542Z"
    }
   },
   "outputs": [],
   "source": [
    "%matplotlib inline\n",
    "import numpy as np \n",
    "import pandas as pd \n",
    "from scipy import stats\n",
    "from scipy.stats import norm, skew\n",
    "from sklearn import preprocessing\n",
    "from sklearn.metrics import r2_score\n",
    "from sklearn.metrics import mean_squared_error\n",
    "from sklearn.model_selection import train_test_split\n",
    "from sklearn.linear_model import ElasticNetCV, ElasticNet\n",
    "from sklearn.model_selection import RandomizedSearchCV\n",
    "from sklearn.model_selection import StratifiedKFold\n",
    "import matplotlib.pyplot as plt \n",
    "import seaborn as sns\n",
    "def ignore_warn(*args, **kwargs):\n",
    "    pass\n",
    "import warnings\n",
    "warnings.warn = ignore_warn\n"
   ]
  },
  {
   "cell_type": "markdown",
   "metadata": {},
   "source": [
    "一、读取数据"
   ]
  },
  {
   "cell_type": "code",
   "execution_count": 69,
   "metadata": {
    "ExecuteTime": {
     "end_time": "2021-01-08T13:36:08.190792Z",
     "start_time": "2021-01-08T13:36:08.185243Z"
    }
   },
   "outputs": [],
   "source": [
    "# 读取文件\n",
    "df=pd.read_csv('时间序列数据.txt')\n"
   ]
  },
  {
   "cell_type": "code",
   "execution_count": 149,
   "metadata": {
    "ExecuteTime": {
     "end_time": "2021-01-10T02:24:17.144290Z",
     "start_time": "2021-01-10T02:24:17.138874Z"
    }
   },
   "outputs": [
    {
     "data": {
      "text/plain": [
       "0     2020-01-02\n",
       "1     2020-01-03\n",
       "2     2020-01-04\n",
       "3     2020-01-05\n",
       "4     2020-01-06\n",
       "         ...    \n",
       "101   2020-04-12\n",
       "102   2020-04-13\n",
       "103   2020-04-14\n",
       "104   2020-04-15\n",
       "105          NaT\n",
       "Name: ds, Length: 106, dtype: datetime64[ns]"
      ]
     },
     "execution_count": 149,
     "metadata": {},
     "output_type": "execute_result"
    }
   ],
   "source": [
    "df['ds'].shift(-1)"
   ]
  },
  {
   "cell_type": "code",
   "execution_count": 144,
   "metadata": {
    "ExecuteTime": {
     "end_time": "2021-01-10T02:23:25.692605Z",
     "start_time": "2021-01-10T02:23:25.488256Z"
    }
   },
   "outputs": [
    {
     "data": {
      "text/html": [
       "<div>\n",
       "<style scoped>\n",
       "    .dataframe tbody tr th:only-of-type {\n",
       "        vertical-align: middle;\n",
       "    }\n",
       "\n",
       "    .dataframe tbody tr th {\n",
       "        vertical-align: top;\n",
       "    }\n",
       "\n",
       "    .dataframe thead th {\n",
       "        text-align: right;\n",
       "    }\n",
       "</style>\n",
       "<table border=\"1\" class=\"dataframe\">\n",
       "  <thead>\n",
       "    <tr style=\"text-align: right;\">\n",
       "      <th></th>\n",
       "      <th>科普信息</th>\n",
       "      <th>疫情态势</th>\n",
       "      <th>疫情影响</th>\n",
       "      <th>捐助公益</th>\n",
       "      <th>求助信息</th>\n",
       "      <th>政府政策</th>\n",
       "      <th>人物故事</th>\n",
       "      <th>公众心理</th>\n",
       "      <th>无效信息</th>\n",
       "      <th>y</th>\n",
       "      <th>ds</th>\n",
       "    </tr>\n",
       "  </thead>\n",
       "  <tbody>\n",
       "    <tr>\n",
       "      <th>0</th>\n",
       "      <td>NaN</td>\n",
       "      <td>NaN</td>\n",
       "      <td>NaN</td>\n",
       "      <td>NaN</td>\n",
       "      <td>NaN</td>\n",
       "      <td>NaN</td>\n",
       "      <td>NaN</td>\n",
       "      <td>NaN</td>\n",
       "      <td>NaN</td>\n",
       "      <td>NaN</td>\n",
       "      <td>NaT</td>\n",
       "    </tr>\n",
       "    <tr>\n",
       "      <th>1</th>\n",
       "      <td>4.744932</td>\n",
       "      <td>5.181784</td>\n",
       "      <td>121.0</td>\n",
       "      <td>1.386294</td>\n",
       "      <td>2.079442</td>\n",
       "      <td>145.0</td>\n",
       "      <td>2.302585</td>\n",
       "      <td>370.0</td>\n",
       "      <td>5.976351</td>\n",
       "      <td>0.000000</td>\n",
       "      <td>2020-01-01</td>\n",
       "    </tr>\n",
       "    <tr>\n",
       "      <th>2</th>\n",
       "      <td>5.036953</td>\n",
       "      <td>5.537334</td>\n",
       "      <td>44.0</td>\n",
       "      <td>2.484907</td>\n",
       "      <td>2.197225</td>\n",
       "      <td>98.0</td>\n",
       "      <td>4.430817</td>\n",
       "      <td>396.0</td>\n",
       "      <td>5.937536</td>\n",
       "      <td>0.000000</td>\n",
       "      <td>2020-01-02</td>\n",
       "    </tr>\n",
       "    <tr>\n",
       "      <th>3</th>\n",
       "      <td>4.615121</td>\n",
       "      <td>6.095825</td>\n",
       "      <td>13.0</td>\n",
       "      <td>1.791759</td>\n",
       "      <td>1.386294</td>\n",
       "      <td>46.0</td>\n",
       "      <td>2.772589</td>\n",
       "      <td>481.0</td>\n",
       "      <td>5.594711</td>\n",
       "      <td>0.000000</td>\n",
       "      <td>2020-01-03</td>\n",
       "    </tr>\n",
       "    <tr>\n",
       "      <th>4</th>\n",
       "      <td>2.772589</td>\n",
       "      <td>4.521789</td>\n",
       "      <td>1.0</td>\n",
       "      <td>2.197225</td>\n",
       "      <td>0.000000</td>\n",
       "      <td>12.0</td>\n",
       "      <td>0.693147</td>\n",
       "      <td>43.0</td>\n",
       "      <td>0.693147</td>\n",
       "      <td>0.000000</td>\n",
       "      <td>2020-01-04</td>\n",
       "    </tr>\n",
       "    <tr>\n",
       "      <th>...</th>\n",
       "      <td>...</td>\n",
       "      <td>...</td>\n",
       "      <td>...</td>\n",
       "      <td>...</td>\n",
       "      <td>...</td>\n",
       "      <td>...</td>\n",
       "      <td>...</td>\n",
       "      <td>...</td>\n",
       "      <td>...</td>\n",
       "      <td>...</td>\n",
       "      <td>...</td>\n",
       "    </tr>\n",
       "    <tr>\n",
       "      <th>101</th>\n",
       "      <td>9.180396</td>\n",
       "      <td>9.582800</td>\n",
       "      <td>13943.0</td>\n",
       "      <td>9.696094</td>\n",
       "      <td>10.160762</td>\n",
       "      <td>21108.0</td>\n",
       "      <td>8.684909</td>\n",
       "      <td>60504.0</td>\n",
       "      <td>11.103603</td>\n",
       "      <td>3.850148</td>\n",
       "      <td>2020-04-10</td>\n",
       "    </tr>\n",
       "    <tr>\n",
       "      <th>102</th>\n",
       "      <td>9.476926</td>\n",
       "      <td>9.878118</td>\n",
       "      <td>10949.0</td>\n",
       "      <td>9.404343</td>\n",
       "      <td>10.180930</td>\n",
       "      <td>21805.0</td>\n",
       "      <td>8.754792</td>\n",
       "      <td>103372.0</td>\n",
       "      <td>11.552656</td>\n",
       "      <td>4.605170</td>\n",
       "      <td>2020-04-11</td>\n",
       "    </tr>\n",
       "    <tr>\n",
       "      <th>103</th>\n",
       "      <td>9.644846</td>\n",
       "      <td>9.680594</td>\n",
       "      <td>10311.0</td>\n",
       "      <td>9.490998</td>\n",
       "      <td>10.185390</td>\n",
       "      <td>17594.0</td>\n",
       "      <td>8.813587</td>\n",
       "      <td>84101.0</td>\n",
       "      <td>11.711071</td>\n",
       "      <td>4.691348</td>\n",
       "      <td>2020-04-12</td>\n",
       "    </tr>\n",
       "    <tr>\n",
       "      <th>104</th>\n",
       "      <td>8.704834</td>\n",
       "      <td>9.007490</td>\n",
       "      <td>5965.0</td>\n",
       "      <td>8.876545</td>\n",
       "      <td>9.345396</td>\n",
       "      <td>8303.0</td>\n",
       "      <td>7.965546</td>\n",
       "      <td>30468.0</td>\n",
       "      <td>10.495736</td>\n",
       "      <td>4.499810</td>\n",
       "      <td>2020-04-13</td>\n",
       "    </tr>\n",
       "    <tr>\n",
       "      <th>105</th>\n",
       "      <td>8.415825</td>\n",
       "      <td>8.847216</td>\n",
       "      <td>6439.0</td>\n",
       "      <td>8.494539</td>\n",
       "      <td>9.387314</td>\n",
       "      <td>7970.0</td>\n",
       "      <td>7.972466</td>\n",
       "      <td>28843.0</td>\n",
       "      <td>10.260602</td>\n",
       "      <td>3.850148</td>\n",
       "      <td>2020-04-14</td>\n",
       "    </tr>\n",
       "  </tbody>\n",
       "</table>\n",
       "<p>106 rows × 11 columns</p>\n",
       "</div>"
      ],
      "text/plain": [
       "         科普信息      疫情态势     疫情影响      捐助公益       求助信息     政府政策      人物故事  \\\n",
       "0         NaN       NaN      NaN       NaN        NaN      NaN       NaN   \n",
       "1    4.744932  5.181784    121.0  1.386294   2.079442    145.0  2.302585   \n",
       "2    5.036953  5.537334     44.0  2.484907   2.197225     98.0  4.430817   \n",
       "3    4.615121  6.095825     13.0  1.791759   1.386294     46.0  2.772589   \n",
       "4    2.772589  4.521789      1.0  2.197225   0.000000     12.0  0.693147   \n",
       "..        ...       ...      ...       ...        ...      ...       ...   \n",
       "101  9.180396  9.582800  13943.0  9.696094  10.160762  21108.0  8.684909   \n",
       "102  9.476926  9.878118  10949.0  9.404343  10.180930  21805.0  8.754792   \n",
       "103  9.644846  9.680594  10311.0  9.490998  10.185390  17594.0  8.813587   \n",
       "104  8.704834  9.007490   5965.0  8.876545   9.345396   8303.0  7.965546   \n",
       "105  8.415825  8.847216   6439.0  8.494539   9.387314   7970.0  7.972466   \n",
       "\n",
       "         公众心理       无效信息         y         ds  \n",
       "0         NaN        NaN       NaN        NaT  \n",
       "1       370.0   5.976351  0.000000 2020-01-01  \n",
       "2       396.0   5.937536  0.000000 2020-01-02  \n",
       "3       481.0   5.594711  0.000000 2020-01-03  \n",
       "4        43.0   0.693147  0.000000 2020-01-04  \n",
       "..        ...        ...       ...        ...  \n",
       "101   60504.0  11.103603  3.850148 2020-04-10  \n",
       "102  103372.0  11.552656  4.605170 2020-04-11  \n",
       "103   84101.0  11.711071  4.691348 2020-04-12  \n",
       "104   30468.0  10.495736  4.499810 2020-04-13  \n",
       "105   28843.0  10.260602  3.850148 2020-04-14  \n",
       "\n",
       "[106 rows x 11 columns]"
      ]
     },
     "execution_count": 144,
     "metadata": {},
     "output_type": "execute_result"
    }
   ],
   "source": [
    "df.shift()"
   ]
  },
  {
   "cell_type": "code",
   "execution_count": 71,
   "metadata": {
    "ExecuteTime": {
     "end_time": "2021-01-08T13:36:09.240183Z",
     "start_time": "2021-01-08T13:36:09.232640Z"
    }
   },
   "outputs": [
    {
     "data": {
      "text/plain": [
       "日期      0.0\n",
       "科普信息    0.0\n",
       "疫情态势    0.0\n",
       "疫情影响    0.0\n",
       "捐助公益    0.0\n",
       "求助信息    0.0\n",
       "政府政策    0.0\n",
       "人物故事    0.0\n",
       "公众心理    0.0\n",
       "无效信息    0.0\n",
       "新增确诊    0.0\n",
       "dtype: float64"
      ]
     },
     "execution_count": 71,
     "metadata": {},
     "output_type": "execute_result"
    }
   ],
   "source": [
    "# 查看空值情况\n",
    "(df.isnull().sum() / len(df)).sort_values(ascending=False)[:20]"
   ]
  },
  {
   "cell_type": "code",
   "execution_count": 72,
   "metadata": {
    "ExecuteTime": {
     "end_time": "2021-01-08T13:36:10.860606Z",
     "start_time": "2021-01-08T13:36:10.856520Z"
    }
   },
   "outputs": [
    {
     "data": {
      "text/plain": [
       "Index(['日期', '科普信息', '疫情态势', '疫情影响', '捐助公益', '求助信息', '政府政策', '人物故事', '公众心理',\n",
       "       '无效信息', '新增确诊'],\n",
       "      dtype='object')"
      ]
     },
     "execution_count": 72,
     "metadata": {},
     "output_type": "execute_result"
    }
   ],
   "source": [
    "df.columns"
   ]
  },
  {
   "cell_type": "code",
   "execution_count": 56,
   "metadata": {
    "ExecuteTime": {
     "end_time": "2021-01-08T13:25:22.883817Z",
     "start_time": "2021-01-08T13:25:22.658405Z"
    }
   },
   "outputs": [
    {
     "name": "stdout",
     "output_type": "stream",
     "text": [
      "\n",
      " mu = 657.32 and sigma = 1070.09\n",
      "\n"
     ]
    },
    {
     "data": {
      "text/plain": [
       "Text(0.5, 1.0, 'confirmed distribution')"
      ]
     },
     "execution_count": 56,
     "metadata": {},
     "output_type": "execute_result"
    },
    {
     "data": {
      "image/png": "[encoded data removed]",
      "text/plain": [
       "<Figure size 432x288 with 1 Axes>"
      ]
     },
     "metadata": {},
     "output_type": "display_data"
    }
   ],
   "source": [
    "sns.distplot(df['新增确诊'] , fit=norm);\n",
    " \n",
    "#得到均值和标准差\n",
    "(mu, sigma) = norm.fit(df['新增确诊'])\n",
    "print( '\\n mu = {:.2f} and sigma = {:.2f}\\n'.format(mu, sigma))\n",
    " \n",
    "plt.legend(['Normal dist. ($\\mu=$ {:.2f} and $\\sigma=$ {:.2f} )'.format(mu, sigma)],\n",
    "            loc='best')\n",
    "plt.ylabel('Frequency')\n",
    "plt.title('confirmed distribution')"
   ]
  },
  {
   "cell_type": "code",
   "execution_count": 57,
   "metadata": {
    "ExecuteTime": {
     "end_time": "2021-01-08T13:25:23.347931Z",
     "start_time": "2021-01-08T13:25:23.198921Z"
    }
   },
   "outputs": [
    {
     "data": {
      "image/png": "[encoded data removed]",
      "text/plain": [
       "<Figure size 432x288 with 1 Axes>"
      ]
     },
     "metadata": {},
     "output_type": "display_data"
    }
   ],
   "source": [
    " #画QQ图\n",
    "fig = plt.figure()\n",
    "res = stats.probplot(df['新增确诊'], plot=plt)\n",
    "plt.show();"
   ]
  },
  {
   "cell_type": "code",
   "execution_count": 58,
   "metadata": {
    "ExecuteTime": {
     "end_time": "2021-01-08T13:25:24.265793Z",
     "start_time": "2021-01-08T13:25:23.902191Z"
    }
   },
   "outputs": [
    {
     "name": "stdout",
     "output_type": "stream",
     "text": [
      "\n",
      " mu = 4.49 and sigma = 2.48\n",
      "\n"
     ]
    },
    {
     "data": {
      "image/png": "[encoded data removed]",
      "text/plain": [
       "<Figure size 432x288 with 1 Axes>"
      ]
     },
     "metadata": {},
     "output_type": "display_data"
    },
    {
     "data": {
      "image/png": "[encoded data removed]",
      "text/plain": [
       "<Figure size 432x288 with 1 Axes>"
      ]
     },
     "metadata": {},
     "output_type": "display_data"
    }
   ],
   "source": [
    "sns.distplot(np.log1p(df['新增确诊']) , fit=norm);\n",
    " \n",
    "# 纠偏,对数化处理。\n",
    "(mu, sigma) = norm.fit(np.log1p(df['新增确诊']))\n",
    "print( '\\n mu = {:.2f} and sigma = {:.2f}\\n'.format(mu, sigma))\n",
    " \n",
    "#纠偏后再化分布图\n",
    "plt.legend(['Normal dist. ($\\mu=$ {:.2f} and $\\sigma=$ {:.2f} )'.format(mu, sigma)],\n",
    "            loc='best')\n",
    "plt.ylabel('Frequency')\n",
    "plt.title('log(confirmed+1) distribution')\n",
    " \n",
    "#画QQ图\n",
    "fig = plt.figure()\n",
    "res = stats.probplot(np.log1p(df['新增确诊']), plot=plt)\n",
    "plt.show();"
   ]
  },
  {
   "cell_type": "markdown",
   "metadata": {},
   "source": [
    "## preprocessing"
   ]
  },
  {
   "cell_type": "code",
   "execution_count": 106,
   "metadata": {
    "ExecuteTime": {
     "end_time": "2021-01-08T13:43:37.912135Z",
     "start_time": "2021-01-08T13:43:37.884427Z"
    }
   },
   "outputs": [
    {
     "name": "stdout",
     "output_type": "stream",
     "text": [
      "数据清洗前的特征变量的数量为: 9\n",
      "数据清洗后的特征变量的数量为: 9\n"
     ]
    }
   ],
   "source": [
    "df=pd.read_csv('时间序列数据.txt')\n",
    "\n",
    "ds = df['日期']\n",
    "\n",
    "\n",
    "df.drop(['日期'], axis=1, inplace=True)\n",
    "print(\"数据清洗前的特征变量的数量为:\",len(df.columns)-1)\n",
    "#对目标变量进行对数化纠偏\n",
    "df[\"新增确诊\"] = np.log1p(df[\"新增确诊\"])\n",
    "#对数值型特征变量进行对数化处理:1.过滤出数值型变量,2.计算偏度,3.对偏度大于0.75的数据进行对数化纠偏\n",
    "#1.过滤出数值型变量\n",
    "numeric_feats = df.dtypes[df.dtypes != \"object\"].index\n",
    "#2.计算偏度\n",
    "skewed_feats = df[numeric_feats].apply(lambda x: skew(x.dropna())) #compute skewness\n",
    "skewed_feats = skewed_feats[skewed_feats > 0.75]\n",
    "skewed_feats = skewed_feats.index\n",
    "#3.对偏度大于0.75的数据进行对数化纠偏\n",
    "df[skewed_feats] = np.log1p(df[skewed_feats])\n",
    "#4.对分类型变量进行one-hot编码,分类型变量会被横向展开为多个变量\n",
    "df = pd.get_dummies(df)\n",
    "#用均值填充空值\n",
    "df = df.fillna(df.mean())\n",
    " \n",
    "print(\"数据清洗后的特征变量的数量为:\",len(df.columns)-1)\n",
    "\n",
    "y = df['新增确诊']\n",
    "X = df.drop(columns =['新增确诊'])"
   ]
  },
  {
   "cell_type": "markdown",
   "metadata": {},
   "source": [
    "## Random Spliting"
   ]
  },
  {
   "cell_type": "code",
   "execution_count": 31,
   "metadata": {
    "ExecuteTime": {
     "end_time": "2021-01-08T13:15:11.824006Z",
     "start_time": "2021-01-08T13:15:11.819487Z"
    }
   },
   "outputs": [],
   "source": [
    "#创建训练集和测试集\n",
    "\n",
    "X_train, X_test, y_train, y_test  = train_test_split(X, y, test_size = 0.5, random_state = 0)"
   ]
  },
  {
   "cell_type": "markdown",
   "metadata": {},
   "source": [
    "三、训练模型"
   ]
  },
  {
   "cell_type": "code",
   "execution_count": 32,
   "metadata": {
    "ExecuteTime": {
     "end_time": "2021-01-08T13:15:13.128631Z",
     "start_time": "2021-01-08T13:15:12.905901Z"
    }
   },
   "outputs": [
    {
     "name": "stdout",
     "output_type": "stream",
     "text": [
      "最佳 alpha: 0.00355004\n",
      "最佳 l1_ratio: 0.900\n",
      "迭代次数 192\n"
     ]
    }
   ],
   "source": [
    "# 利用弹性网络\n",
    "cv_model = ElasticNetCV(l1_ratio=0.9, eps=1e-3, n_alphas=100, fit_intercept=True, \n",
    "                        normalize=True, precompute='auto', max_iter=2000, tol=0.00001, cv=10, \n",
    "                        copy_X=True, verbose=0, n_jobs=-1, positive=False, random_state=0)\n",
    "\n",
    "# 训练模型              \n",
    "cv_model.fit(X_train, y_train)\n",
    "\n",
    "# 计算最佳迭代次数、alpha和ratio\n",
    "print('最佳 alpha: %.8f'%cv_model.alpha_)\n",
    "print('最佳 l1_ratio: %.3f'%cv_model.l1_ratio_)\n",
    "print('迭代次数 %d'%cv_model.n_iter_)"
   ]
  },
  {
   "cell_type": "code",
   "execution_count": 33,
   "metadata": {
    "ExecuteTime": {
     "end_time": "2021-01-08T13:15:13.612744Z",
     "start_time": "2021-01-08T13:15:13.604356Z"
    }
   },
   "outputs": [
    {
     "name": "stdout",
     "output_type": "stream",
     "text": [
      "Train r2 score:  0.7716572668013562\n",
      "Test r2 score:  0.86401451761067\n",
      "Train RMSE: 0.9437\n",
      "Test RMSE: 0.9576\n"
     ]
    }
   ],
   "source": [
    "# 输出结果\n",
    "y_train_pred = cv_model.predict(X_train)\n",
    "y_pred = cv_model.predict(X_test)\n",
    "print('Train r2 score: ', r2_score(y_train_pred, y_train))\n",
    "print('Test r2 score: ', r2_score(y_test, y_pred))\n",
    "train_mse = mean_squared_error(y_train_pred, y_train)\n",
    "test_mse = mean_squared_error(y_pred, y_test)\n",
    "train_rmse = np.sqrt(train_mse)\n",
    "test_rmse = np.sqrt(test_mse)\n",
    "print('Train RMSE: %.4f' % train_rmse)\n",
    "print('Test RMSE: %.4f' % test_rmse)"
   ]
  },
  {
   "cell_type": "code",
   "execution_count": 34,
   "metadata": {
    "ExecuteTime": {
     "end_time": "2021-01-08T13:15:14.465234Z",
     "start_time": "2021-01-08T13:15:14.321463Z"
    }
   },
   "outputs": [
    {
     "data": {
      "image/png": "[encoded data removed]",
      "text/plain": [
       "<Figure size 432x288 with 1 Axes>"
      ]
     },
     "metadata": {},
     "output_type": "display_data"
    }
   ],
   "source": [
    "plt.style.use('ggplot')\n",
    "plt.plot(y_test, y_pred, 'o')\n",
    "plt.xlabel('模型预测结果')\n",
    "plt.ylabel('测试集数据')\n",
    "plt.title('临近预测')\n",
    "plt.show()"
   ]
  },
  {
   "cell_type": "markdown",
   "metadata": {},
   "source": [
    "## Time Series Spliting"
   ]
  },
  {
   "cell_type": "code",
   "execution_count": 41,
   "metadata": {
    "ExecuteTime": {
     "end_time": "2021-01-08T13:17:05.561553Z",
     "start_time": "2021-01-08T13:17:05.344495Z"
    }
   },
   "outputs": [
    {
     "name": "stdout",
     "output_type": "stream",
     "text": [
      "最佳 alpha: 0.00053347\n",
      "最佳 l1_ratio: 0.900\n",
      "迭代次数 342\n"
     ]
    }
   ],
   "source": [
    "N = 90\n",
    "X_train = X.iloc[:N,]\n",
    "X_test = X.iloc[N:,]\n",
    "y_train = y[:N]\n",
    "y_test = y[N:]\n",
    "\n",
    "# 利用弹性网络\n",
    "cv_model = ElasticNetCV(l1_ratio=0.9, eps=1e-3, n_alphas=100, fit_intercept=True, \n",
    "                        normalize=True, precompute='auto', max_iter=2000, tol=0.00001, cv=10, \n",
    "                        copy_X=True, verbose=0, n_jobs=-1, positive=False, random_state=0)\n",
    "\n",
    "# 训练模型              \n",
    "cv_model.fit(X_train, y_train)\n",
    "\n",
    "# 计算最佳迭代次数、alpha和ratio\n",
    "print('最佳 alpha: %.8f'%cv_model.alpha_)\n",
    "print('最佳 l1_ratio: %.3f'%cv_model.l1_ratio_)\n",
    "print('迭代次数 %d'%cv_model.n_iter_)"
   ]
  },
  {
   "cell_type": "code",
   "execution_count": 42,
   "metadata": {
    "ExecuteTime": {
     "end_time": "2021-01-08T13:17:08.133413Z",
     "start_time": "2021-01-08T13:17:08.124863Z"
    }
   },
   "outputs": [
    {
     "name": "stdout",
     "output_type": "stream",
     "text": [
      "Train r2 score:  0.8490147924907816\n",
      "Test r2 score:  -2.4283645232173185\n",
      "Train RMSE: 0.9541\n",
      "Test RMSE: 0.8305\n"
     ]
    }
   ],
   "source": [
    "# 输出结果\n",
    "y_train_pred = cv_model.predict(X_train)\n",
    "y_pred = cv_model.predict(X_test)\n",
    "print('Train r2 score: ', r2_score(y_train_pred, y_train))\n",
    "print('Test r2 score: ', r2_score(y_test, y_pred))\n",
    "train_mse = mean_squared_error(y_train_pred, y_train)\n",
    "test_mse = mean_squared_error(y_pred, y_test)\n",
    "train_rmse = np.sqrt(train_mse)\n",
    "test_rmse = np.sqrt(test_mse)\n",
    "print('Train RMSE: %.4f' % train_rmse)\n",
    "print('Test RMSE: %.4f' % test_rmse)"
   ]
  },
  {
   "cell_type": "code",
   "execution_count": 43,
   "metadata": {
    "ExecuteTime": {
     "end_time": "2021-01-08T13:17:09.918660Z",
     "start_time": "2021-01-08T13:17:09.774158Z"
    }
   },
   "outputs": [
    {
     "data": {
      "image/png": "[encoded data removed]",
      "text/plain": [
       "<Figure size 432x288 with 1 Axes>"
      ]
     },
     "metadata": {},
     "output_type": "display_data"
    }
   ],
   "source": [
    "plt.style.use('ggplot')\n",
    "plt.plot(y_test, y_pred, 'o')\n",
    "plt.xlabel('模型预测结果')\n",
    "plt.ylabel('测试集数据')\n",
    "plt.title('临近预测')\n",
    "plt.show()"
   ]
  },
  {
   "cell_type": "markdown",
   "metadata": {},
   "source": [
    "## Prophet"
   ]
  },
  {
   "cell_type": "code",
   "execution_count": 44,
   "metadata": {
    "ExecuteTime": {
     "end_time": "2021-01-08T13:20:59.682298Z",
     "start_time": "2021-01-08T13:20:59.133095Z"
    }
   },
   "outputs": [],
   "source": [
    "from fbprophet import Prophet"
   ]
  },
  {
   "cell_type": "code",
   "execution_count": 107,
   "metadata": {
    "ExecuteTime": {
     "end_time": "2021-01-08T13:43:41.701486Z",
     "start_time": "2021-01-08T13:43:41.683378Z"
    }
   },
   "outputs": [
    {
     "data": {
      "text/html": [
       "<div>\n",
       "<style scoped>\n",
       "    .dataframe tbody tr th:only-of-type {\n",
       "        vertical-align: middle;\n",
       "    }\n",
       "\n",
       "    .dataframe tbody tr th {\n",
       "        vertical-align: top;\n",
       "    }\n",
       "\n",
       "    .dataframe thead th {\n",
       "        text-align: right;\n",
       "    }\n",
       "</style>\n",
       "<table border=\"1\" class=\"dataframe\">\n",
       "  <thead>\n",
       "    <tr style=\"text-align: right;\">\n",
       "      <th></th>\n",
       "      <th>科普信息</th>\n",
       "      <th>疫情态势</th>\n",
       "      <th>疫情影响</th>\n",
       "      <th>捐助公益</th>\n",
       "      <th>求助信息</th>\n",
       "      <th>政府政策</th>\n",
       "      <th>人物故事</th>\n",
       "      <th>公众心理</th>\n",
       "      <th>无效信息</th>\n",
       "      <th>新增确诊</th>\n",
       "    </tr>\n",
       "  </thead>\n",
       "  <tbody>\n",
       "    <tr>\n",
       "      <th>0</th>\n",
       "      <td>4.744932</td>\n",
       "      <td>5.181784</td>\n",
       "      <td>121</td>\n",
       "      <td>1.386294</td>\n",
       "      <td>2.079442</td>\n",
       "      <td>145</td>\n",
       "      <td>2.302585</td>\n",
       "      <td>370</td>\n",
       "      <td>5.976351</td>\n",
       "      <td>0.000000</td>\n",
       "    </tr>\n",
       "    <tr>\n",
       "      <th>1</th>\n",
       "      <td>5.036953</td>\n",
       "      <td>5.537334</td>\n",
       "      <td>44</td>\n",
       "      <td>2.484907</td>\n",
       "      <td>2.197225</td>\n",
       "      <td>98</td>\n",
       "      <td>4.430817</td>\n",
       "      <td>396</td>\n",
       "      <td>5.937536</td>\n",
       "      <td>0.000000</td>\n",
       "    </tr>\n",
       "    <tr>\n",
       "      <th>2</th>\n",
       "      <td>4.615121</td>\n",
       "      <td>6.095825</td>\n",
       "      <td>13</td>\n",
       "      <td>1.791759</td>\n",
       "      <td>1.386294</td>\n",
       "      <td>46</td>\n",
       "      <td>2.772589</td>\n",
       "      <td>481</td>\n",
       "      <td>5.594711</td>\n",
       "      <td>0.000000</td>\n",
       "    </tr>\n",
       "    <tr>\n",
       "      <th>3</th>\n",
       "      <td>2.772589</td>\n",
       "      <td>4.521789</td>\n",
       "      <td>1</td>\n",
       "      <td>2.197225</td>\n",
       "      <td>0.000000</td>\n",
       "      <td>12</td>\n",
       "      <td>0.693147</td>\n",
       "      <td>43</td>\n",
       "      <td>0.693147</td>\n",
       "      <td>0.000000</td>\n",
       "    </tr>\n",
       "    <tr>\n",
       "      <th>4</th>\n",
       "      <td>4.634729</td>\n",
       "      <td>6.620073</td>\n",
       "      <td>16</td>\n",
       "      <td>1.945910</td>\n",
       "      <td>2.708050</td>\n",
       "      <td>76</td>\n",
       "      <td>3.044522</td>\n",
       "      <td>726</td>\n",
       "      <td>5.720312</td>\n",
       "      <td>0.000000</td>\n",
       "    </tr>\n",
       "    <tr>\n",
       "      <th>...</th>\n",
       "      <td>...</td>\n",
       "      <td>...</td>\n",
       "      <td>...</td>\n",
       "      <td>...</td>\n",
       "      <td>...</td>\n",
       "      <td>...</td>\n",
       "      <td>...</td>\n",
       "      <td>...</td>\n",
       "      <td>...</td>\n",
       "      <td>...</td>\n",
       "    </tr>\n",
       "    <tr>\n",
       "      <th>101</th>\n",
       "      <td>9.476926</td>\n",
       "      <td>9.878118</td>\n",
       "      <td>10949</td>\n",
       "      <td>9.404343</td>\n",
       "      <td>10.180930</td>\n",
       "      <td>21805</td>\n",
       "      <td>8.754792</td>\n",
       "      <td>103372</td>\n",
       "      <td>11.552656</td>\n",
       "      <td>4.605170</td>\n",
       "    </tr>\n",
       "    <tr>\n",
       "      <th>102</th>\n",
       "      <td>9.644846</td>\n",
       "      <td>9.680594</td>\n",
       "      <td>10311</td>\n",
       "      <td>9.490998</td>\n",
       "      <td>10.185390</td>\n",
       "      <td>17594</td>\n",
       "      <td>8.813587</td>\n",
       "      <td>84101</td>\n",
       "      <td>11.711071</td>\n",
       "      <td>4.691348</td>\n",
       "    </tr>\n",
       "    <tr>\n",
       "      <th>103</th>\n",
       "      <td>8.704834</td>\n",
       "      <td>9.007490</td>\n",
       "      <td>5965</td>\n",
       "      <td>8.876545</td>\n",
       "      <td>9.345396</td>\n",
       "      <td>8303</td>\n",
       "      <td>7.965546</td>\n",
       "      <td>30468</td>\n",
       "      <td>10.495736</td>\n",
       "      <td>4.499810</td>\n",
       "    </tr>\n",
       "    <tr>\n",
       "      <th>104</th>\n",
       "      <td>8.415825</td>\n",
       "      <td>8.847216</td>\n",
       "      <td>6439</td>\n",
       "      <td>8.494539</td>\n",
       "      <td>9.387314</td>\n",
       "      <td>7970</td>\n",
       "      <td>7.972466</td>\n",
       "      <td>28843</td>\n",
       "      <td>10.260602</td>\n",
       "      <td>3.850148</td>\n",
       "    </tr>\n",
       "    <tr>\n",
       "      <th>105</th>\n",
       "      <td>8.725994</td>\n",
       "      <td>8.760767</td>\n",
       "      <td>6611</td>\n",
       "      <td>8.742255</td>\n",
       "      <td>9.374498</td>\n",
       "      <td>6574</td>\n",
       "      <td>7.795235</td>\n",
       "      <td>26556</td>\n",
       "      <td>10.232575</td>\n",
       "      <td>3.850148</td>\n",
       "    </tr>\n",
       "  </tbody>\n",
       "</table>\n",
       "<p>106 rows × 10 columns</p>\n",
       "</div>"
      ],
      "text/plain": [
       "         科普信息      疫情态势   疫情影响      捐助公益       求助信息   政府政策      人物故事    公众心理  \\\n",
       "0    4.744932  5.181784    121  1.386294   2.079442    145  2.302585     370   \n",
       "1    5.036953  5.537334     44  2.484907   2.197225     98  4.430817     396   \n",
       "2    4.615121  6.095825     13  1.791759   1.386294     46  2.772589     481   \n",
       "3    2.772589  4.521789      1  2.197225   0.000000     12  0.693147      43   \n",
       "4    4.634729  6.620073     16  1.945910   2.708050     76  3.044522     726   \n",
       "..        ...       ...    ...       ...        ...    ...       ...     ...   \n",
       "101  9.476926  9.878118  10949  9.404343  10.180930  21805  8.754792  103372   \n",
       "102  9.644846  9.680594  10311  9.490998  10.185390  17594  8.813587   84101   \n",
       "103  8.704834  9.007490   5965  8.876545   9.345396   8303  7.965546   30468   \n",
       "104  8.415825  8.847216   6439  8.494539   9.387314   7970  7.972466   28843   \n",
       "105  8.725994  8.760767   6611  8.742255   9.374498   6574  7.795235   26556   \n",
       "\n",
       "          无效信息      新增确诊  \n",
       "0     5.976351  0.000000  \n",
       "1     5.937536  0.000000  \n",
       "2     5.594711  0.000000  \n",
       "3     0.693147  0.000000  \n",
       "4     5.720312  0.000000  \n",
       "..         ...       ...  \n",
       "101  11.552656  4.605170  \n",
       "102  11.711071  4.691348  \n",
       "103  10.495736  4.499810  \n",
       "104  10.260602  3.850148  \n",
       "105  10.232575  3.850148  \n",
       "\n",
       "[106 rows x 10 columns]"
      ]
     },
     "execution_count": 107,
     "metadata": {},
     "output_type": "execute_result"
    }
   ],
   "source": [
    "df"
   ]
  },
  {
   "cell_type": "code",
   "execution_count": 108,
   "metadata": {
    "ExecuteTime": {
     "end_time": "2021-01-08T13:43:46.223784Z",
     "start_time": "2021-01-08T13:43:46.219917Z"
    }
   },
   "outputs": [],
   "source": [
    "# to explicitly convert the date column to type DATETIME\n",
    "df['ds'] = pd.to_datetime(ds)\n",
    "df.rename(columns={'新增确诊':'y'},inplace = True)\n",
    "\n",
    "#df = df.set_index('DS')"
   ]
  },
  {
   "cell_type": "code",
   "execution_count": 138,
   "metadata": {
    "ExecuteTime": {
     "end_time": "2021-01-08T13:51:29.744661Z",
     "start_time": "2021-01-08T13:51:29.741241Z"
    }
   },
   "outputs": [],
   "source": [
    "N = 90\n",
    "df_train = df.iloc[:N,]\n",
    "df_test = df.iloc[N:,]"
   ]
  },
  {
   "cell_type": "code",
   "execution_count": 139,
   "metadata": {
    "ExecuteTime": {
     "end_time": "2021-01-08T13:51:31.219586Z",
     "start_time": "2021-01-08T13:51:30.555577Z"
    }
   },
   "outputs": [
    {
     "name": "stderr",
     "output_type": "stream",
     "text": [
      "INFO:fbprophet:Disabling yearly seasonality. Run prophet with yearly_seasonality=True to override this.\n"
     ]
    },
    {
     "data": {
      "text/plain": [
       "<fbprophet.forecaster.Prophet at 0x1a2312a210>"
      ]
     },
     "execution_count": 139,
     "metadata": {},
     "output_type": "execute_result"
    }
   ],
   "source": [
    "m = Prophet(daily_seasonality=True)\n",
    "m.fit(df_train)"
   ]
  },
  {
   "cell_type": "code",
   "execution_count": 140,
   "metadata": {
    "ExecuteTime": {
     "end_time": "2021-01-08T13:51:33.989088Z",
     "start_time": "2021-01-08T13:51:32.387244Z"
    }
   },
   "outputs": [],
   "source": [
    "forecast = m.predict(df_test[['ds']])\n",
    "#forecast[['ds', 'yhat', 'yhat_lower', 'yhat_upper']]"
   ]
  },
  {
   "cell_type": "code",
   "execution_count": 141,
   "metadata": {
    "ExecuteTime": {
     "end_time": "2021-01-08T13:51:36.277322Z",
     "start_time": "2021-01-08T13:51:36.134742Z"
    }
   },
   "outputs": [
    {
     "data": {
      "image/png": "[encoded data removed]",
      "text/plain": [
       "<Figure size 432x288 with 1 Axes>"
      ]
     },
     "metadata": {},
     "output_type": "display_data"
    }
   ],
   "source": [
    "plt.plot(df['ds'], df['y'])\n",
    "plt.plot(df_test['ds'], forecast['yhat'])\n",
    "plt.show()"
   ]
  },
  {
   "cell_type": "code",
   "execution_count": 143,
   "metadata": {
    "ExecuteTime": {
     "end_time": "2021-01-08T13:52:25.273932Z",
     "start_time": "2021-01-08T13:52:25.146624Z"
    }
   },
   "outputs": [
    {
     "data": {
      "image/png": "[encoded data removed]",
      "text/plain": [
       "<Figure size 432x288 with 1 Axes>"
      ]
     },
     "metadata": {},
     "output_type": "display_data"
    }
   ],
   "source": [
    "plt.plot(df_test['y'],  forecast['yhat'], 'o');"
   ]
  },
  {
   "cell_type": "markdown",
   "metadata": {},
   "source": [
    "## Predicting with lag features"
   ]
  },
  {
   "cell_type": "code",
   "execution_count": 196,
   "metadata": {
    "ExecuteTime": {
     "end_time": "2021-01-10T06:19:26.408122Z",
     "start_time": "2021-01-10T06:19:26.378901Z"
    }
   },
   "outputs": [
    {
     "name": "stdout",
     "output_type": "stream",
     "text": [
      "数据清洗前的特征变量的数量为: 9\n",
      "数据清洗后的特征变量的数量为: 9\n"
     ]
    }
   ],
   "source": [
    "df=pd.read_csv('时间序列数据.txt')\n",
    "\n",
    "ds = df['日期']\n",
    "\n",
    "df.drop(['日期'], axis=1, inplace=True)\n",
    "print(\"数据清洗前的特征变量的数量为:\",len(df.columns)-1)\n",
    "#对目标变量进行对数化纠偏\n",
    "df[\"新增确诊\"] = np.log1p(df[\"新增确诊\"])\n",
    "#对数值型特征变量进行对数化处理:1.过滤出数值型变量,2.计算偏度,3.对偏度大于0.75的数据进行对数化纠偏\n",
    "#1.过滤出数值型变量\n",
    "numeric_feats = df.dtypes[df.dtypes != \"object\"].index\n",
    "#2.计算偏度\n",
    "skewed_feats = df[numeric_feats].apply(lambda x: skew(x.dropna())) #compute skewness\n",
    "skewed_feats = skewed_feats[skewed_feats > 0.75]\n",
    "skewed_feats = skewed_feats.index\n",
    "#3.对偏度大于0.75的数据进行对数化纠偏\n",
    "df[skewed_feats] = np.log1p(df[skewed_feats])\n",
    "#4.对分类型变量进行one-hot编码,分类型变量会被横向展开为多个变量\n",
    "df = pd.get_dummies(df)\n",
    "#用均值填充空值\n",
    "df = df.fillna(df.mean())\n",
    " \n",
    "print(\"数据清洗后的特征变量的数量为:\",len(df.columns)-1)\n",
    "\n",
    "# to explicitly convert the date column to type DATETIME\n",
    "df['ds'] = pd.to_datetime(ds)\n",
    "df.rename(columns={'新增确诊':'y'},inplace = True)"
   ]
  },
  {
   "cell_type": "code",
   "execution_count": 197,
   "metadata": {
    "ExecuteTime": {
     "end_time": "2021-01-10T06:19:27.235431Z",
     "start_time": "2021-01-10T06:19:27.183684Z"
    }
   },
   "outputs": [],
   "source": [
    "# lag feature engineering\n",
    "dat = df#.iloc[15:,]\n",
    "for col in dat.columns.tolist()[:-1]:\n",
    "    for lag in range(1, 6):\n",
    "        dat[f'{col}_lag{lag}'] = dat[col].shift(lag)\n",
    "        dat[f'{col}_lag{lag}'] = dat[f'{col}_lag{lag}'].fillna(0).astype('float32')"
   ]
  },
  {
   "cell_type": "code",
   "execution_count": 198,
   "metadata": {
    "ExecuteTime": {
     "end_time": "2021-01-10T06:19:31.719523Z",
     "start_time": "2021-01-10T06:19:29.224331Z"
    }
   },
   "outputs": [
    {
     "name": "stdout",
     "output_type": "stream",
     "text": [
      "最佳 alpha: 0.00332260\n",
      "最佳 l1_ratio: 1.000\n",
      "迭代次数 170\n",
      "Train r2 score:  0.9388259990498888\n",
      "Test r2 score:  0.4308045965429276\n",
      "Train RMSE: 0.6299\n",
      "Test RMSE: 0.3384\n"
     ]
    }
   ],
   "source": [
    "y = dat['y']\n",
    "X = dat.drop(columns =['y'])\n",
    "\n",
    "N = 90\n",
    "y = dat['y']\n",
    "X = dat.drop(columns =['y', 'ds'])\n",
    "X_train = X.iloc[:N,]\n",
    "X_test = X.iloc[N:,]\n",
    "y_train = y[:N]\n",
    "y_test = y[N:,]\n",
    "t_test = dat['ds'][N:,]\n",
    "\n",
    "# from sklearn.pipeline import make_pipeline\n",
    "# from sklearn.preprocessing import PolynomialFeatures\n",
    "\n",
    "# 利用弹性网络\n",
    "cv_model = ElasticNetCV(l1_ratio=1, eps=1e-3, n_alphas=1000, fit_intercept=True, \n",
    "                        normalize=True, precompute='auto', max_iter=2000, tol=0.00001, cv=10, \n",
    "                        copy_X=True, verbose=0, n_jobs=-1, positive=False, random_state=0)\n",
    "\n",
    "# full_model = make_pipeline(PolynomialFeatures(2),\n",
    "#                            cv_model)\n",
    "\n",
    "# 训练模型              \n",
    "cv_model.fit(X_train, y_train)\n",
    "\n",
    "# 计算最佳迭代次数、alpha和ratio\n",
    "print('最佳 alpha: %.8f'%cv_model.alpha_)\n",
    "print('最佳 l1_ratio: %.3f'%cv_model.l1_ratio_)\n",
    "print('迭代次数 %d'%cv_model.n_iter_)\n",
    "\n",
    "# 输出结果\n",
    "y_train_pred = cv_model.predict(X_train)\n",
    "y_pred = cv_model.predict(X_test)\n",
    "print('Train r2 score: ', r2_score(y_train_pred, y_train))\n",
    "print('Test r2 score: ', r2_score(y_test, y_pred))\n",
    "train_mse = mean_squared_error(y_train_pred, y_train)\n",
    "test_mse = mean_squared_error(y_pred, y_test)\n",
    "train_rmse = np.sqrt(train_mse)\n",
    "test_rmse = np.sqrt(test_mse)\n",
    "print('Train RMSE: %.4f' % train_rmse)\n",
    "print('Test RMSE: %.4f' % test_rmse)"
   ]
  },
  {
   "cell_type": "code",
   "execution_count": 199,
   "metadata": {
    "ExecuteTime": {
     "end_time": "2021-01-10T06:19:34.531988Z",
     "start_time": "2021-01-10T06:19:34.369167Z"
    }
   },
   "outputs": [
    {
     "data": {
      "image/png": "[encoded data removed]",
      "text/plain": [
       "<Figure size 1080x360 with 1 Axes>"
      ]
     },
     "metadata": {
      "needs_background": "light"
     },
     "output_type": "display_data"
    }
   ],
   "source": [
    "plt.rcParams.update({'figure.figsize': (15, 5)})\n",
    "plt.plot(dat['ds'], dat['y'])\n",
    "plt.plot(t_test, y_pred)\n",
    "plt.show()"
   ]
  },
  {
   "cell_type": "code",
   "execution_count": 200,
   "metadata": {
    "ExecuteTime": {
     "end_time": "2021-01-10T06:20:02.962157Z",
     "start_time": "2021-01-10T06:20:02.833743Z"
    }
   },
   "outputs": [
    {
     "data": {
      "image/png": "[encoded data removed]",
      "text/plain": [
       "<Figure size 360x360 with 1 Axes>"
      ]
     },
     "metadata": {
      "needs_background": "light"
     },
     "output_type": "display_data"
    }
   ],
   "source": [
    "plt.rcParams.update({'figure.figsize': (5, 5)})\n",
    "plt.plot(y_test, y_pred, 'o');"
   ]
  },
  {
   "cell_type": "code",
   "execution_count": null,
   "metadata": {},
   "outputs": [],
   "source": []
  }
 ],
 "metadata": {
  "kernelspec": {
   "display_name": "Python 3",
   "language": "python",
   "name": "python3"
  },
  "language_info": {
   "codemirror_mode": {
    "name": "ipython",
    "version": 3
   },
   "file_extension": ".py",
   "mimetype": "text/x-python",
   "name": "python",
   "nbconvert_exporter": "python",
   "pygments_lexer": "ipython3",
   "version": "3.7.6"
  },
  "toc": {
   "base_numbering": 1,
   "nav_menu": {},
   "number_sections": false,
   "sideBar": true,
   "skip_h1_title": false,
   "title_cell": "Table of Contents",
   "title_sidebar": "Contents",
   "toc_cell": false,
   "toc_position": {
    "height": "calc(100% - 180px)",
    "left": "10px",
    "top": "150px",
    "width": "267.391px"
   },
   "toc_section_display": true,
   "toc_window_display": true
  }
 },
 "nbformat": 4,
 "nbformat_minor": 4
}
